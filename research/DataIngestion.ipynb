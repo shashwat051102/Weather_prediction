{
 "cells": [
  {
   "cell_type": "code",
   "execution_count": 88,
   "id": "acf79276",
   "metadata": {},
   "outputs": [],
   "source": [
    "import os"
   ]
  },
  {
   "cell_type": "code",
   "execution_count": 89,
   "id": "6740a8e3",
   "metadata": {},
   "outputs": [
    {
     "data": {
      "text/plain": [
       "'e:\\\\Weather_prediction'"
      ]
     },
     "execution_count": 89,
     "metadata": {},
     "output_type": "execute_result"
    }
   ],
   "source": [
    "%pwd"
   ]
  },
  {
   "cell_type": "code",
   "execution_count": 90,
   "id": "5be07fc3",
   "metadata": {},
   "outputs": [],
   "source": [
    "os.chdir(\"e:/Weather_prediction\")"
   ]
  },
  {
   "cell_type": "code",
   "execution_count": 91,
   "id": "1bb1f24e",
   "metadata": {},
   "outputs": [
    {
     "data": {
      "text/plain": [
       "'e:\\\\Weather_prediction'"
      ]
     },
     "execution_count": 91,
     "metadata": {},
     "output_type": "execute_result"
    }
   ],
   "source": [
    "%pwd"
   ]
  },
  {
   "cell_type": "code",
   "execution_count": 92,
   "id": "f43009db",
   "metadata": {},
   "outputs": [],
   "source": [
    "from dataclasses import dataclass\n",
    "from pathlib import Path\n",
    "\n",
    "@dataclass\n",
    "class DataIngestionConfig:\n",
    "    root_dir: Path\n",
    "    source_URL: str\n",
    "    local_data_file: Path"
   ]
  },
  {
   "cell_type": "code",
   "execution_count": 93,
   "id": "ddff921d",
   "metadata": {},
   "outputs": [],
   "source": [
    "from src.Predict_weather.constants import CONFIG_FILE_PATH, PARAMS_FILE_PATH, SCHEMA_FILE_PATH\n",
    "from src.Predict_weather.utils.common import read_yaml,create_directories"
   ]
  },
  {
   "cell_type": "code",
   "execution_count": 94,
   "id": "273fa149",
   "metadata": {},
   "outputs": [],
   "source": [
    "class ConfigurationManager:\n",
    "    def __init__(self, config_filepath = CONFIG_FILE_PATH, params_filepath = PARAMS_FILE_PATH, schema_filepath = SCHEMA_FILE_PATH):\n",
    "        self.config = read_yaml(config_filepath)\n",
    "        self.params = read_yaml(params_filepath)\n",
    "        self.schema = read_yaml(schema_filepath)\n",
    "        \n",
    "    \n",
    "    def get_data_ingestion_config(self) -> DataIngestionConfig:\n",
    "        config = self.config.data_ingestion\n",
    "        create_directories([config.root_dir])\n",
    "        \n",
    "        data_ingestion_config = DataIngestionConfig(\n",
    "            root_dir=Path(config.root_dir),\n",
    "            source_URL = config.source_URL,\n",
    "            local_data_file = Path(config.local_data_file)\n",
    "        )\n",
    "        \n",
    "        \n",
    "        return data_ingestion_config"
   ]
  },
  {
   "cell_type": "code",
   "execution_count": 95,
   "id": "9159a053",
   "metadata": {},
   "outputs": [],
   "source": [
    "import os\n",
    "import urllib.request as request\n",
    "from src.Predict_weather import logger\n",
    "import openmeteo_requests\n",
    "import pandas as pd\n",
    "import requests_cache\n",
    "from retry_requests import retry"
   ]
  },
  {
   "cell_type": "code",
   "execution_count": 96,
   "id": "749540bd",
   "metadata": {},
   "outputs": [],
   "source": [
    "class DataIngestion:\n",
    "    def __init__(self, config: DataIngestionConfig):\n",
    "        self.config = config\n",
    "        \n",
    "    def download_data(self):\n",
    "        if not os.path.exists(self.config.local_data_file):\n",
    "            cache_session = requests_cache.CachedSession('.cache', expire_after = -1)\n",
    "            retry_session = retry(cache_session, retries = 5, backoff_factor = 0.2)\n",
    "            openmeteo = openmeteo_requests.Client(session = retry_session)\n",
    "\n",
    "            # Make sure all required weather variables are listed here\n",
    "            # The order of variables in hourly or daily is important to assign them correctly below\n",
    "            url = self.config.source_URL\n",
    "            filename = self.config.local_data_file\n",
    "            params = {\n",
    "                \"latitude\": 22,\n",
    "                \"longitude\": 79,\n",
    "                \"start_date\": \"2020-08-15\",\n",
    "                \"end_date\": \"2025-08-15\",\n",
    "                \"daily\": [\"temperature_2m_max\", \"temperature_2m_min\", \"precipitation_sum\", \"rain_sum\", \"precipitation_hours\", \"temperature_2m_mean\", \"apparent_temperature_mean\", \"cloud_cover_mean\", \"cloud_cover_max\", \"cloud_cover_min\", \"sunshine_duration\", \"wind_speed_10m_max\", \"wind_gusts_10m_max\", \"wind_gusts_10m_mean\", \"wind_speed_10m_mean\", \"relative_humidity_2m_max\", \"relative_humidity_2m_min\", \"relative_humidity_2m_mean\"],\n",
    "                \"timezone\": \"auto\",\n",
    "                \"utm_source\": \"chatgpt.com\",\n",
    "            }\n",
    "            responses = openmeteo.weather_api(url, params=params)\n",
    "\n",
    "            # Process first location. Add a for-loop for multiple locations or weather models\n",
    "            response = responses[0]\n",
    "            print(f\"Coordinates: {response.Latitude()}°N {response.Longitude()}°E\")\n",
    "            print(f\"Elevation: {response.Elevation()} m asl\")\n",
    "            print(f\"Timezone: {response.Timezone()}{response.TimezoneAbbreviation()}\")\n",
    "            print(f\"Timezone difference to GMT+0: {response.UtcOffsetSeconds()}s\")\n",
    "\n",
    "            # Process daily data. The order of variables needs to be the same as requested.\n",
    "            daily = response.Daily()\n",
    "            daily_temperature_2m_max = daily.Variables(0).ValuesAsNumpy()\n",
    "            daily_temperature_2m_min = daily.Variables(1).ValuesAsNumpy()\n",
    "            daily_precipitation_sum = daily.Variables(2).ValuesAsNumpy()\n",
    "            daily_rain_sum = daily.Variables(3).ValuesAsNumpy()\n",
    "            daily_precipitation_hours = daily.Variables(4).ValuesAsNumpy()\n",
    "            daily_temperature_2m_mean = daily.Variables(5).ValuesAsNumpy()\n",
    "            daily_apparent_temperature_mean = daily.Variables(6).ValuesAsNumpy()\n",
    "            daily_cloud_cover_mean = daily.Variables(7).ValuesAsNumpy()\n",
    "            daily_cloud_cover_max = daily.Variables(8).ValuesAsNumpy()\n",
    "            daily_cloud_cover_min = daily.Variables(9).ValuesAsNumpy()\n",
    "            daily_sunshine_duration = daily.Variables(10).ValuesAsNumpy()\n",
    "            daily_wind_speed_10m_max = daily.Variables(11).ValuesAsNumpy()\n",
    "            daily_wind_gusts_10m_max = daily.Variables(12).ValuesAsNumpy()\n",
    "            daily_wind_gusts_10m_mean = daily.Variables(13).ValuesAsNumpy()\n",
    "            daily_wind_speed_10m_mean = daily.Variables(14).ValuesAsNumpy()\n",
    "            daily_relative_humidity_2m_max = daily.Variables(15).ValuesAsNumpy()\n",
    "            daily_relative_humidity_2m_min = daily.Variables(16).ValuesAsNumpy()\n",
    "            daily_relative_humidity_2m_mean = daily.Variables(17).ValuesAsNumpy()\n",
    "\n",
    "            daily_data = {\"date\": pd.date_range(\n",
    "                start = pd.to_datetime(daily.Time(), unit = \"s\", utc = True),\n",
    "                end = pd.to_datetime(daily.TimeEnd(), unit = \"s\", utc = True),\n",
    "                freq = pd.Timedelta(seconds = daily.Interval()),\n",
    "                inclusive = \"left\"\n",
    "            )}\n",
    "\n",
    "            daily_data[\"temperature_2m_max\"] = daily_temperature_2m_max\n",
    "            daily_data[\"temperature_2m_min\"] = daily_temperature_2m_min\n",
    "            daily_data[\"precipitation_sum\"] = daily_precipitation_sum\n",
    "            daily_data[\"rain_sum\"] = daily_rain_sum\n",
    "            daily_data[\"precipitation_hours\"] = daily_precipitation_hours\n",
    "            daily_data[\"temperature_2m_mean\"] = daily_temperature_2m_mean\n",
    "            daily_data[\"apparent_temperature_mean\"] = daily_apparent_temperature_mean\n",
    "            daily_data[\"cloud_cover_mean\"] = daily_cloud_cover_mean\n",
    "            daily_data[\"cloud_cover_max\"] = daily_cloud_cover_max\n",
    "            daily_data[\"cloud_cover_min\"] = daily_cloud_cover_min\n",
    "            daily_data[\"sunshine_duration\"] = daily_sunshine_duration\n",
    "            daily_data[\"wind_speed_10m_max\"] = daily_wind_speed_10m_max\n",
    "            daily_data[\"wind_gusts_10m_max\"] = daily_wind_gusts_10m_max\n",
    "            daily_data[\"wind_gusts_10m_mean\"] = daily_wind_gusts_10m_mean\n",
    "            daily_data[\"wind_speed_10m_mean\"] = daily_wind_speed_10m_mean\n",
    "            daily_data[\"relative_humidity_2m_max\"] = daily_relative_humidity_2m_max\n",
    "            daily_data[\"relative_humidity_2m_min\"] = daily_relative_humidity_2m_min\n",
    "            daily_data[\"relative_humidity_2m_mean\"] = daily_relative_humidity_2m_mean\n",
    "\n",
    "            daily_dataframe = pd.DataFrame(data = daily_data)\n",
    "            print(\"\\nDaily data\\n\", daily_dataframe)\n",
    "            daily_dataframe.to_csv(filename, index = False)\n",
    "            logger.info(f\"Data ingestion completed. File saved at: {filename}\")\n",
    "        else:\n",
    "            logger.info(f\"File already exists at: {self.config.local_data_file}\")"
   ]
  },
  {
   "cell_type": "code",
   "execution_count": 97,
   "id": "7fb0bb68",
   "metadata": {},
   "outputs": [
    {
     "name": "stdout",
     "output_type": "stream",
     "text": [
      "[2025-08-31 21:33:05,203: INFO: common: yaml file: config\\config.yml loaded successfully]\n",
      "[2025-08-31 21:33:05,206: INFO: common: yaml file: params.yml loaded successfully]\n",
      "[2025-08-31 21:33:05,208: INFO: common: yaml file: schema.yml loaded successfully]\n",
      "[2025-08-31 21:33:05,210: INFO: common: created directory at: artifacts/data_ingestion]\n",
      "[2025-08-31 21:33:05,206: INFO: common: yaml file: params.yml loaded successfully]\n",
      "[2025-08-31 21:33:05,208: INFO: common: yaml file: schema.yml loaded successfully]\n",
      "[2025-08-31 21:33:05,210: INFO: common: created directory at: artifacts/data_ingestion]\n",
      "[2025-08-31 21:33:05,213: INFO: 3198491934: File already exists at: artifacts\\data_ingestion\\weather.csv]\n",
      "[2025-08-31 21:33:05,213: INFO: 3198491934: File already exists at: artifacts\\data_ingestion\\weather.csv]\n"
     ]
    }
   ],
   "source": [
    "try:\n",
    "    config = ConfigurationManager()\n",
    "    data_ingestion_config = config.get_data_ingestion_config()\n",
    "    data_ingestion = DataIngestion(config = data_ingestion_config)\n",
    "    data_ingestion.download_data()\n",
    "except Exception as e:\n",
    "    raise e"
   ]
  }
 ],
 "metadata": {
  "kernelspec": {
   "display_name": "Python 3",
   "language": "python",
   "name": "python3"
  },
  "language_info": {
   "codemirror_mode": {
    "name": "ipython",
    "version": 3
   },
   "file_extension": ".py",
   "mimetype": "text/x-python",
   "name": "python",
   "nbconvert_exporter": "python",
   "pygments_lexer": "ipython3",
   "version": "3.10.18"
  }
 },
 "nbformat": 4,
 "nbformat_minor": 5
}
