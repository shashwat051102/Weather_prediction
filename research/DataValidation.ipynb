{
 "cells": [
  {
   "cell_type": "code",
   "execution_count": 2,
   "id": "4abbf186",
   "metadata": {},
   "outputs": [],
   "source": [
    "import os"
   ]
  },
  {
   "cell_type": "code",
   "execution_count": 3,
   "id": "02b8ff27",
   "metadata": {},
   "outputs": [
    {
     "data": {
      "text/plain": [
       "'e:\\\\Weather_prediction\\\\research'"
      ]
     },
     "execution_count": 3,
     "metadata": {},
     "output_type": "execute_result"
    }
   ],
   "source": [
    "%pwd"
   ]
  },
  {
   "cell_type": "code",
   "execution_count": 4,
   "id": "51cee389",
   "metadata": {},
   "outputs": [],
   "source": [
    "os.chdir(\"E:/Weather_prediction\")"
   ]
  },
  {
   "cell_type": "code",
   "execution_count": 5,
   "id": "604540ff",
   "metadata": {},
   "outputs": [
    {
     "data": {
      "text/plain": [
       "'E:\\\\Weather_prediction'"
      ]
     },
     "execution_count": 5,
     "metadata": {},
     "output_type": "execute_result"
    }
   ],
   "source": [
    "%pwd"
   ]
  },
  {
   "cell_type": "code",
   "execution_count": 6,
   "id": "5f87198c",
   "metadata": {},
   "outputs": [
    {
     "data": {
      "text/html": [
       "<div>\n",
       "<style scoped>\n",
       "    .dataframe tbody tr th:only-of-type {\n",
       "        vertical-align: middle;\n",
       "    }\n",
       "\n",
       "    .dataframe tbody tr th {\n",
       "        vertical-align: top;\n",
       "    }\n",
       "\n",
       "    .dataframe thead th {\n",
       "        text-align: right;\n",
       "    }\n",
       "</style>\n",
       "<table border=\"1\" class=\"dataframe\">\n",
       "  <thead>\n",
       "    <tr style=\"text-align: right;\">\n",
       "      <th></th>\n",
       "      <th>date</th>\n",
       "      <th>temperature_2m_max</th>\n",
       "      <th>temperature_2m_min</th>\n",
       "      <th>precipitation_sum</th>\n",
       "      <th>rain_sum</th>\n",
       "      <th>precipitation_hours</th>\n",
       "      <th>temperature_2m_mean</th>\n",
       "      <th>apparent_temperature_mean</th>\n",
       "      <th>cloud_cover_mean</th>\n",
       "      <th>cloud_cover_max</th>\n",
       "      <th>cloud_cover_min</th>\n",
       "      <th>sunshine_duration</th>\n",
       "      <th>wind_speed_10m_max</th>\n",
       "      <th>wind_gusts_10m_max</th>\n",
       "      <th>wind_gusts_10m_mean</th>\n",
       "      <th>wind_speed_10m_mean</th>\n",
       "      <th>relative_humidity_2m_max</th>\n",
       "      <th>relative_humidity_2m_min</th>\n",
       "      <th>relative_humidity_2m_mean</th>\n",
       "    </tr>\n",
       "  </thead>\n",
       "  <tbody>\n",
       "    <tr>\n",
       "      <th>0</th>\n",
       "      <td>2020-08-14 18:30:00+00:00</td>\n",
       "      <td>27.244</td>\n",
       "      <td>22.144</td>\n",
       "      <td>6.900000</td>\n",
       "      <td>6.900000</td>\n",
       "      <td>18.0</td>\n",
       "      <td>23.887749</td>\n",
       "      <td>26.387281</td>\n",
       "      <td>99.708336</td>\n",
       "      <td>100.0</td>\n",
       "      <td>97.0</td>\n",
       "      <td>11183.3430</td>\n",
       "      <td>23.210928</td>\n",
       "      <td>45.00</td>\n",
       "      <td>31.905000</td>\n",
       "      <td>15.910668</td>\n",
       "      <td>94.962425</td>\n",
       "      <td>72.612100</td>\n",
       "      <td>88.235960</td>\n",
       "    </tr>\n",
       "    <tr>\n",
       "      <th>1</th>\n",
       "      <td>2020-08-15 18:30:00+00:00</td>\n",
       "      <td>27.794</td>\n",
       "      <td>22.194</td>\n",
       "      <td>11.599998</td>\n",
       "      <td>11.599998</td>\n",
       "      <td>17.0</td>\n",
       "      <td>24.239832</td>\n",
       "      <td>27.173525</td>\n",
       "      <td>99.666664</td>\n",
       "      <td>100.0</td>\n",
       "      <td>98.0</td>\n",
       "      <td>3441.2383</td>\n",
       "      <td>22.288042</td>\n",
       "      <td>42.12</td>\n",
       "      <td>29.174997</td>\n",
       "      <td>14.512328</td>\n",
       "      <td>95.538380</td>\n",
       "      <td>73.150450</td>\n",
       "      <td>88.800720</td>\n",
       "    </tr>\n",
       "    <tr>\n",
       "      <th>2</th>\n",
       "      <td>2020-08-16 18:30:00+00:00</td>\n",
       "      <td>23.994</td>\n",
       "      <td>22.544</td>\n",
       "      <td>65.499990</td>\n",
       "      <td>65.499990</td>\n",
       "      <td>20.0</td>\n",
       "      <td>23.108583</td>\n",
       "      <td>26.037016</td>\n",
       "      <td>99.958336</td>\n",
       "      <td>100.0</td>\n",
       "      <td>99.0</td>\n",
       "      <td>0.0000</td>\n",
       "      <td>18.671474</td>\n",
       "      <td>34.92</td>\n",
       "      <td>28.095001</td>\n",
       "      <td>14.444237</td>\n",
       "      <td>96.131600</td>\n",
       "      <td>92.172400</td>\n",
       "      <td>94.593506</td>\n",
       "    </tr>\n",
       "    <tr>\n",
       "      <th>3</th>\n",
       "      <td>2020-08-17 18:30:00+00:00</td>\n",
       "      <td>24.444</td>\n",
       "      <td>22.394</td>\n",
       "      <td>53.500000</td>\n",
       "      <td>53.500000</td>\n",
       "      <td>20.0</td>\n",
       "      <td>23.062752</td>\n",
       "      <td>25.709036</td>\n",
       "      <td>100.000000</td>\n",
       "      <td>100.0</td>\n",
       "      <td>100.0</td>\n",
       "      <td>0.0000</td>\n",
       "      <td>18.806337</td>\n",
       "      <td>36.36</td>\n",
       "      <td>30.494997</td>\n",
       "      <td>15.825063</td>\n",
       "      <td>96.413826</td>\n",
       "      <td>90.527990</td>\n",
       "      <td>94.042330</td>\n",
       "    </tr>\n",
       "    <tr>\n",
       "      <th>4</th>\n",
       "      <td>2020-08-18 18:30:00+00:00</td>\n",
       "      <td>27.344</td>\n",
       "      <td>22.144</td>\n",
       "      <td>13.099999</td>\n",
       "      <td>13.099999</td>\n",
       "      <td>20.0</td>\n",
       "      <td>24.085665</td>\n",
       "      <td>26.299780</td>\n",
       "      <td>89.208336</td>\n",
       "      <td>100.0</td>\n",
       "      <td>63.0</td>\n",
       "      <td>27248.9020</td>\n",
       "      <td>24.400460</td>\n",
       "      <td>46.80</td>\n",
       "      <td>35.459995</td>\n",
       "      <td>18.013298</td>\n",
       "      <td>94.964294</td>\n",
       "      <td>72.408295</td>\n",
       "      <td>87.796760</td>\n",
       "    </tr>\n",
       "  </tbody>\n",
       "</table>\n",
       "</div>"
      ],
      "text/plain": [
       "                        date  temperature_2m_max  temperature_2m_min  \\\n",
       "0  2020-08-14 18:30:00+00:00              27.244              22.144   \n",
       "1  2020-08-15 18:30:00+00:00              27.794              22.194   \n",
       "2  2020-08-16 18:30:00+00:00              23.994              22.544   \n",
       "3  2020-08-17 18:30:00+00:00              24.444              22.394   \n",
       "4  2020-08-18 18:30:00+00:00              27.344              22.144   \n",
       "\n",
       "   precipitation_sum   rain_sum  precipitation_hours  temperature_2m_mean  \\\n",
       "0           6.900000   6.900000                 18.0            23.887749   \n",
       "1          11.599998  11.599998                 17.0            24.239832   \n",
       "2          65.499990  65.499990                 20.0            23.108583   \n",
       "3          53.500000  53.500000                 20.0            23.062752   \n",
       "4          13.099999  13.099999                 20.0            24.085665   \n",
       "\n",
       "   apparent_temperature_mean  cloud_cover_mean  cloud_cover_max  \\\n",
       "0                  26.387281         99.708336            100.0   \n",
       "1                  27.173525         99.666664            100.0   \n",
       "2                  26.037016         99.958336            100.0   \n",
       "3                  25.709036        100.000000            100.0   \n",
       "4                  26.299780         89.208336            100.0   \n",
       "\n",
       "   cloud_cover_min  sunshine_duration  wind_speed_10m_max  wind_gusts_10m_max  \\\n",
       "0             97.0         11183.3430           23.210928               45.00   \n",
       "1             98.0          3441.2383           22.288042               42.12   \n",
       "2             99.0             0.0000           18.671474               34.92   \n",
       "3            100.0             0.0000           18.806337               36.36   \n",
       "4             63.0         27248.9020           24.400460               46.80   \n",
       "\n",
       "   wind_gusts_10m_mean  wind_speed_10m_mean  relative_humidity_2m_max  \\\n",
       "0            31.905000            15.910668                 94.962425   \n",
       "1            29.174997            14.512328                 95.538380   \n",
       "2            28.095001            14.444237                 96.131600   \n",
       "3            30.494997            15.825063                 96.413826   \n",
       "4            35.459995            18.013298                 94.964294   \n",
       "\n",
       "   relative_humidity_2m_min  relative_humidity_2m_mean  \n",
       "0                 72.612100                  88.235960  \n",
       "1                 73.150450                  88.800720  \n",
       "2                 92.172400                  94.593506  \n",
       "3                 90.527990                  94.042330  \n",
       "4                 72.408295                  87.796760  "
      ]
     },
     "execution_count": 6,
     "metadata": {},
     "output_type": "execute_result"
    }
   ],
   "source": [
    "import pandas as pd\n",
    "\n",
    "data = pd.read_csv(r\"E:\\Weather_prediction\\artifacts\\data_ingestion\\weather.csv\")\n",
    "data.head()"
   ]
  },
  {
   "cell_type": "code",
   "execution_count": 7,
   "id": "04561d90",
   "metadata": {},
   "outputs": [
    {
     "name": "stdout",
     "output_type": "stream",
     "text": [
      "<class 'pandas.core.frame.DataFrame'>\n",
      "RangeIndex: 1827 entries, 0 to 1826\n",
      "Data columns (total 19 columns):\n",
      " #   Column                     Non-Null Count  Dtype  \n",
      "---  ------                     --------------  -----  \n",
      " 0   date                       1827 non-null   object \n",
      " 1   temperature_2m_max         1827 non-null   float64\n",
      " 2   temperature_2m_min         1827 non-null   float64\n",
      " 3   precipitation_sum          1827 non-null   float64\n",
      " 4   rain_sum                   1827 non-null   float64\n",
      " 5   precipitation_hours        1827 non-null   float64\n",
      " 6   temperature_2m_mean        1827 non-null   float64\n",
      " 7   apparent_temperature_mean  1827 non-null   float64\n",
      " 8   cloud_cover_mean           1827 non-null   float64\n",
      " 9   cloud_cover_max            1827 non-null   float64\n",
      " 10  cloud_cover_min            1827 non-null   float64\n",
      " 11  sunshine_duration          1827 non-null   float64\n",
      " 12  wind_speed_10m_max         1827 non-null   float64\n",
      " 13  wind_gusts_10m_max         1827 non-null   float64\n",
      " 14  wind_gusts_10m_mean        1827 non-null   float64\n",
      " 15  wind_speed_10m_mean        1827 non-null   float64\n",
      " 16  relative_humidity_2m_max   1827 non-null   float64\n",
      " 17  relative_humidity_2m_min   1827 non-null   float64\n",
      " 18  relative_humidity_2m_mean  1827 non-null   float64\n",
      "dtypes: float64(18), object(1)\n",
      "memory usage: 271.3+ KB\n"
     ]
    }
   ],
   "source": [
    "data.info()"
   ]
  },
  {
   "cell_type": "code",
   "execution_count": 8,
   "id": "ba7854c2",
   "metadata": {},
   "outputs": [
    {
     "data": {
      "text/plain": [
       "date                         0\n",
       "temperature_2m_max           0\n",
       "temperature_2m_min           0\n",
       "precipitation_sum            0\n",
       "rain_sum                     0\n",
       "precipitation_hours          0\n",
       "temperature_2m_mean          0\n",
       "apparent_temperature_mean    0\n",
       "cloud_cover_mean             0\n",
       "cloud_cover_max              0\n",
       "cloud_cover_min              0\n",
       "sunshine_duration            0\n",
       "wind_speed_10m_max           0\n",
       "wind_gusts_10m_max           0\n",
       "wind_gusts_10m_mean          0\n",
       "wind_speed_10m_mean          0\n",
       "relative_humidity_2m_max     0\n",
       "relative_humidity_2m_min     0\n",
       "relative_humidity_2m_mean    0\n",
       "dtype: int64"
      ]
     },
     "execution_count": 8,
     "metadata": {},
     "output_type": "execute_result"
    }
   ],
   "source": [
    "data.isnull().sum()"
   ]
  },
  {
   "cell_type": "code",
   "execution_count": 9,
   "id": "e1c65c9d",
   "metadata": {},
   "outputs": [
    {
     "data": {
      "text/plain": [
       "(1827, 19)"
      ]
     },
     "execution_count": 9,
     "metadata": {},
     "output_type": "execute_result"
    }
   ],
   "source": [
    "data.shape"
   ]
  },
  {
   "cell_type": "code",
   "execution_count": 10,
   "id": "952a533e",
   "metadata": {},
   "outputs": [],
   "source": [
    "from dataclasses import dataclass\n",
    "from pathlib import Path\n",
    "\n",
    "@dataclass\n",
    "class DataValidationConfig:\n",
    "    root_dir: Path\n",
    "    STATUS_FILE: Path\n",
    "    unzip_data_dir: Path\n",
    "    all_schema: dict"
   ]
  },
  {
   "cell_type": "code",
   "execution_count": 11,
   "id": "33961cf7",
   "metadata": {},
   "outputs": [],
   "source": [
    "from src.Predict_weather.constants import *\n",
    "from src.Predict_weather.utils.common import read_yaml, create_directories"
   ]
  },
  {
   "cell_type": "code",
   "execution_count": null,
   "id": "fed924a3",
   "metadata": {},
   "outputs": [],
   "source": [
    "class ConfigurationManager:\n",
    "    def __init__(self, config_filepath=CONFIG_FILE_PATH, params_filepath=PARAMS_FILE_PATH, schema_filepath=SCHEMA_FILE_PATH):\n",
    "        self.config = read_yaml(config_filepath)\n",
    "        self.params = read_yaml(params_filepath)\n",
    "        self.schema = read_yaml(schema_filepath)\n",
    "        \n",
    "        create_directories([self.config.artifacts_root])\n",
    "        \n",
    "    def get_data_validation_config(self) -> DataValidationConfig:\n",
    "        config = self.config.data_validation\n",
    "        schema = self.schema.COLUMNS\n",
    "        \n",
    "        create_directories([config.root_dir])\n",
    "        \n",
    "        data_validation_config = DataValidationConfig(\n",
    "            root_dir = config.root_dir,\n",
    "            STATUS_FILE= config.STATUS_FILE,\n",
    "            unzip_data_dir= config.unzip_data_dir,\n",
    "            all_schema= schema\n",
    "        )\n",
    "        \n",
    "        return data_validation_config"
   ]
  },
  {
   "cell_type": "code",
   "execution_count": 15,
   "id": "409d2d23",
   "metadata": {},
   "outputs": [],
   "source": [
    "import os\n",
    "from src.Predict_weather import logger"
   ]
  },
  {
   "cell_type": "code",
   "execution_count": 16,
   "id": "1c0b5f39",
   "metadata": {},
   "outputs": [],
   "source": [
    "class DataValidation:\n",
    "    def __init__(self, config: DataValidationConfig):\n",
    "        self.config = config\n",
    "    \n",
    "    def validate_all_columns(self) -> bool:\n",
    "        try:\n",
    "            validation_status = None\n",
    "            data = pd.read_csv(self.config.unzip_data_dir)\n",
    "            all_col = list(data.columns)\n",
    "            all_schema = self.config.all_schema.keys()\n",
    "            \n",
    "            for col in all_col:\n",
    "                if col not in all_schema:\n",
    "                    validation_status = False\n",
    "                    with open(self.config.STATUS_FILE, 'w') as f:\n",
    "                        f.write(f\"Validation status {validation_status}\")\n",
    "                else:\n",
    "                    validation_status = True\n",
    "                    with open(self.config.STATUS_FILE, 'w') as f:\n",
    "                        f.write(f\"Validation status {validation_status}\")\n",
    "                        \n",
    "        except Exception as e:\n",
    "            raise e"
   ]
  },
  {
   "cell_type": "code",
   "execution_count": 17,
   "id": "0efb1a26",
   "metadata": {},
   "outputs": [
    {
     "name": "stdout",
     "output_type": "stream",
     "text": [
      "[2025-09-01 21:55:14,785: INFO: common: yaml file: config\\config.yml loaded successfully]\n",
      "[2025-09-01 21:55:14,789: INFO: common: yaml file: params.yml loaded successfully]\n",
      "[2025-09-01 21:55:14,802: INFO: common: yaml file: schema.yml loaded successfully]\n",
      "[2025-09-01 21:55:14,805: INFO: common: created directory at: artifacts]\n",
      "[2025-09-01 21:55:14,805: INFO: common: created directory at: artifacts/data_validation]\n"
     ]
    }
   ],
   "source": [
    "try:\n",
    "    config = ConfigurationManager()\n",
    "    data_validation_config = config.get_data_validation_config()\n",
    "    data_validation = DataValidation(config=data_validation_config)\n",
    "    data_validation.validate_all_columns()\n",
    "except Exception as e:\n",
    "    raise e"
   ]
  },
  {
   "cell_type": "code",
   "execution_count": null,
   "id": "b579bc9c",
   "metadata": {},
   "outputs": [],
   "source": []
  }
 ],
 "metadata": {
  "kernelspec": {
   "display_name": "Python 3",
   "language": "python",
   "name": "python3"
  },
  "language_info": {
   "codemirror_mode": {
    "name": "ipython",
    "version": 3
   },
   "file_extension": ".py",
   "mimetype": "text/x-python",
   "name": "python",
   "nbconvert_exporter": "python",
   "pygments_lexer": "ipython3",
   "version": "3.10.18"
  }
 },
 "nbformat": 4,
 "nbformat_minor": 5
}
